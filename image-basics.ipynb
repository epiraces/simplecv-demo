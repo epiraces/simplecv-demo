{
 "metadata": {
  "name": "image-basics"
 },
 "nbformat": 3,
 "nbformat_minor": 0,
 "worksheets": [
  {
   "cells": [
    {
     "cell_type": "markdown",
     "metadata": {},
     "source": [
      "# Images, pixels and colors\n",
      "\n",
      "## Images are matrices of pixels\n",
      "\n",
      "### Making an image from an array"
     ]
    },
    {
     "cell_type": "code",
     "collapsed": false,
     "input": [
      "from SimpleCV import Image\n",
      "import numpy as np\n",
      "a = np.array([[0, 0,   0,   0,   0, 0, 0],\n",
      "              [0, 0,   0,   0,   0, 0, 0],\n",
      "              [0, 0, 255, 255, 255, 0, 0],\n",
      "              [0, 0, 255, 255, 255, 0, 0],\n",
      "              [0, 0, 255, 255, 255, 0, 0],\n",
      "              [0, 0,   0,   0,   0, 0, 0],\n",
      "              [0, 0,   0,   0,   0, 0, 0]])\n",
      "Image(a).scale(50, interpolation=0).show()"
     ],
     "language": "python",
     "metadata": {},
     "outputs": []
    },
    {
     "cell_type": "markdown",
     "metadata": {},
     "source": [
      "## Colour"
     ]
    },
    {
     "cell_type": "code",
     "collapsed": false,
     "input": [
      "img = Image('media/kitten.jpg').scale(0.4)\n",
      "img.show()"
     ],
     "language": "python",
     "metadata": {},
     "outputs": []
    },
    {
     "cell_type": "code",
     "collapsed": false,
     "input": [
      "img[0, 0]"
     ],
     "language": "python",
     "metadata": {},
     "outputs": []
    },
    {
     "cell_type": "markdown",
     "metadata": {},
     "source": [
      "### RGB colour space"
     ]
    },
    {
     "cell_type": "code",
     "collapsed": false,
     "input": [
      "Image('media/rgb-cube.png').show()"
     ],
     "language": "python",
     "metadata": {},
     "outputs": []
    },
    {
     "cell_type": "code",
     "collapsed": false,
     "input": [
      "img = Image('media/rainbow-cake.jpg').scale(0.3)\n",
      "img.show()"
     ],
     "language": "python",
     "metadata": {},
     "outputs": []
    },
    {
     "cell_type": "code",
     "collapsed": false,
     "input": [
      "img_s = img.scale(0.5)\n",
      "img_s.sideBySide(img_s).sideBySide(img_s).show()\n",
      "\n",
      "r, g, b = img_s.splitChannels(True)\n",
      "r.sideBySide(g).sideBySide(b).show()"
     ],
     "language": "python",
     "metadata": {},
     "outputs": []
    },
    {
     "cell_type": "markdown",
     "metadata": {},
     "source": [
      "### HSV color space (Hue, Saturation, Value)"
     ]
    },
    {
     "cell_type": "code",
     "collapsed": false,
     "input": [
      "Image('media/hsv-cone.png').show()"
     ],
     "language": "python",
     "metadata": {},
     "outputs": []
    },
    {
     "cell_type": "code",
     "collapsed": false,
     "input": [
      "img_s = img.scale(0.5)\n",
      "img_s.sideBySide(img_s).sideBySide(img_s).show()\n",
      "\n",
      "v, s, h = img_s.toHSV().splitChannels()\n",
      "h.sideBySide(s).sideBySide(v).show()"
     ],
     "language": "python",
     "metadata": {},
     "outputs": []
    },
    {
     "cell_type": "markdown",
     "metadata": {},
     "source": [
      "## Operations on images"
     ]
    },
    {
     "cell_type": "code",
     "collapsed": false,
     "input": [
      "img = Image('media/kitten.jpg').scale(0.4)\n",
      "img.show()"
     ],
     "language": "python",
     "metadata": {},
     "outputs": []
    },
    {
     "cell_type": "markdown",
     "metadata": {},
     "source": [
      "### Cropping"
     ]
    },
    {
     "cell_type": "code",
     "collapsed": false,
     "input": [
      "img[100:300, 50:200].show()"
     ],
     "language": "python",
     "metadata": {},
     "outputs": []
    },
    {
     "cell_type": "code",
     "collapsed": false,
     "input": [
      "img.crop(100, 50, 200, 150).show()"
     ],
     "language": "python",
     "metadata": {},
     "outputs": []
    },
    {
     "cell_type": "markdown",
     "metadata": {},
     "source": [
      "### Rotating"
     ]
    },
    {
     "cell_type": "code",
     "collapsed": false,
     "input": [
      "img.rotate(90).show()"
     ],
     "language": "python",
     "metadata": {},
     "outputs": []
    },
    {
     "cell_type": "code",
     "collapsed": false,
     "input": [
      "img.rotate(90, fixed=False).show()"
     ],
     "language": "python",
     "metadata": {},
     "outputs": []
    },
    {
     "cell_type": "code",
     "collapsed": false,
     "input": [
      "img.rotate(45).show()"
     ],
     "language": "python",
     "metadata": {},
     "outputs": []
    },
    {
     "cell_type": "markdown",
     "metadata": {},
     "source": [
      "### Flipping"
     ]
    },
    {
     "cell_type": "code",
     "collapsed": false,
     "input": [
      "img.flipHorizontal().show()"
     ],
     "language": "python",
     "metadata": {},
     "outputs": []
    },
    {
     "cell_type": "code",
     "collapsed": false,
     "input": [
      "img.flipVertical().show()"
     ],
     "language": "python",
     "metadata": {},
     "outputs": []
    },
    {
     "cell_type": "markdown",
     "metadata": {},
     "source": [
      "### Blitting"
     ]
    },
    {
     "cell_type": "code",
     "collapsed": false,
     "input": [
      "img.blit(img.scale(0.3), (30, 20)).show()"
     ],
     "language": "python",
     "metadata": {},
     "outputs": []
    },
    {
     "cell_type": "markdown",
     "metadata": {},
     "source": [
      "### Side by side"
     ]
    },
    {
     "cell_type": "code",
     "collapsed": false,
     "input": [
      "img.sideBySide(img.invert(), 'right').show()"
     ],
     "language": "python",
     "metadata": {},
     "outputs": []
    },
    {
     "cell_type": "markdown",
     "metadata": {},
     "source": [
      "\n",
      "\n",
      "\n",
      "\n",
      "\n",
      "\n",
      "### Let's try some of these with video!"
     ]
    }
   ],
   "metadata": {}
  }
 ]
}