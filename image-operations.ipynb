{
 "metadata": {
  "name": "image-operations"
 },
 "nbformat": 3,
 "nbformat_minor": 0,
 "worksheets": [
  {
   "cells": [
    {
     "cell_type": "markdown",
     "metadata": {},
     "source": [
      "# Morphology"
     ]
    },
    {
     "cell_type": "code",
     "collapsed": false,
     "input": [
      "import numpy as np\n",
      "a = np.array([[0, 0,   0,   0,   0, 0, 0],\n",
      "              [0, 0,   0,   0,   0, 0, 0],\n",
      "              [0, 0, 255, 255, 255, 0, 0],\n",
      "              [0, 0, 255, 255, 255, 0, 0],\n",
      "              [0, 0, 255, 255, 255, 0, 0],\n",
      "              [0, 0,   0,   0,   0, 0, 0],\n",
      "              [0, 0,   0,   0,   0, 0, 0]])\n",
      "left = Image(a)\n",
      "\n",
      "right = Image('media/lion-and-cub-bin.jpg')\n",
      "\n",
      "left.scale(50, interpolation=0).sideBySide(right).show()"
     ],
     "language": "python",
     "metadata": {},
     "outputs": []
    },
    {
     "cell_type": "markdown",
     "metadata": {},
     "source": [
      "## Erosion"
     ]
    },
    {
     "cell_type": "code",
     "collapsed": false,
     "input": [
      "img.erode().scale(50, interpolation=0).sideBySide(\n",
      "    right.erode()\n",
      ").show()"
     ],
     "language": "python",
     "metadata": {},
     "outputs": []
    },
    {
     "cell_type": "markdown",
     "metadata": {},
     "source": [
      "## Dilation"
     ]
    },
    {
     "cell_type": "code",
     "collapsed": false,
     "input": [
      "img.dilate().scale(50, interpolation=0).sideBySide(\n",
      "    right.dilate()\n",
      ").show()"
     ],
     "language": "python",
     "metadata": {},
     "outputs": []
    },
    {
     "cell_type": "markdown",
     "metadata": {},
     "source": [
      "## Erosion + dilation = \"opening\""
     ]
    },
    {
     "cell_type": "code",
     "collapsed": false,
     "input": [
      "img.erode().dilate().scale(50, interpolation=0).sideBySide(\n",
      "    right.erode().dilate()\n",
      ").show()"
     ],
     "language": "python",
     "metadata": {},
     "outputs": []
    },
    {
     "cell_type": "markdown",
     "metadata": {},
     "source": [
      "## Dilation + erosion = \"closing\""
     ]
    },
    {
     "cell_type": "code",
     "collapsed": false,
     "input": [
      "img.dilate().erode().scale(50, interpolation=0).sideBySide(\n",
      "    right.dilate().erode()\n",
      ").show()"
     ],
     "language": "python",
     "metadata": {},
     "outputs": []
    },
    {
     "cell_type": "markdown",
     "metadata": {},
     "source": [
      "# Edge detection"
     ]
    },
    {
     "cell_type": "code",
     "collapsed": false,
     "input": [
      "img = Image('media/prison-cat.jpg')\n",
      "img.show()"
     ],
     "language": "python",
     "metadata": {},
     "outputs": []
    },
    {
     "cell_type": "markdown",
     "metadata": {},
     "source": [
      "## Sobel operator"
     ]
    },
    {
     "cell_type": "code",
     "collapsed": false,
     "input": [
      "img.sobel().show()"
     ],
     "language": "python",
     "metadata": {},
     "outputs": []
    },
    {
     "cell_type": "markdown",
     "metadata": {},
     "source": [
      "## Canny edge detector"
     ]
    },
    {
     "cell_type": "code",
     "collapsed": false,
     "input": [
      "img.edges().show()"
     ],
     "language": "python",
     "metadata": {},
     "outputs": []
    },
    {
     "cell_type": "markdown",
     "metadata": {},
     "source": [
      "# Segmentation"
     ]
    },
    {
     "cell_type": "code",
     "collapsed": false,
     "input": [
      "img = Image('media/cat-sheets.jpg').scale(0.2)\n",
      "img.show()"
     ],
     "language": "python",
     "metadata": {},
     "outputs": []
    },
    {
     "cell_type": "markdown",
     "metadata": {},
     "source": [
      "## Blob detection"
     ]
    },
    {
     "cell_type": "code",
     "collapsed": false,
     "input": [
      "img2 = img.copy()\n",
      "img2_inv = img.invert()\n",
      "blobs = img2_inv.findBlobs()\n",
      "blobs"
     ],
     "language": "python",
     "metadata": {},
     "outputs": []
    },
    {
     "cell_type": "code",
     "collapsed": false,
     "input": [
      "blobs[-1].draw(Color.GREEN)\n",
      "img2_inv.show()"
     ],
     "language": "python",
     "metadata": {},
     "outputs": []
    },
    {
     "cell_type": "markdown",
     "metadata": {},
     "source": [
      "## Masking"
     ]
    },
    {
     "cell_type": "code",
     "collapsed": false,
     "input": [
      "mask = img.binarize(60)\n",
      "mask.show()"
     ],
     "language": "python",
     "metadata": {},
     "outputs": []
    },
    {
     "cell_type": "code",
     "collapsed": false,
     "input": [
      "(img & mask).show()"
     ],
     "language": "python",
     "metadata": {},
     "outputs": []
    },
    {
     "cell_type": "code",
     "collapsed": false,
     "input": [
      "gizah = Image('media/gizah.jpg').scale(0.6)\n",
      "gizah.show()\n"
     ],
     "language": "python",
     "metadata": {},
     "outputs": []
    },
    {
     "cell_type": "code",
     "collapsed": false,
     "input": [
      "i = img.scale(0.3)\n",
      "mask = i.binarize(60)\n",
      "gizah.blit(i, (300, 50), mask=mask).show()"
     ],
     "language": "python",
     "metadata": {},
     "outputs": []
    }
   ],
   "metadata": {}
  }
 ]
}