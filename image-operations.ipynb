{
 "metadata": {
  "name": "image-operations"
 },
 "nbformat": 3,
 "nbformat_minor": 0,
 "worksheets": [
  {
   "cells": [
    {
     "cell_type": "markdown",
     "metadata": {},
     "source": [
      "# Image operations\n",
      "\n",
      "## Morphology"
     ]
    },
    {
     "cell_type": "code",
     "collapsed": false,
     "input": [
      "import numpy as np\n",
      "a = np.array([[0, 0,   0,   0,   0, 0, 0],\n",
      "              [0, 0,   0,   0,   0, 0, 0],\n",
      "              [0, 0, 255, 255, 255, 0, 0],\n",
      "              [0, 0, 255, 255, 255, 0, 0],\n",
      "              [0, 0, 255, 255, 255, 0, 0],\n",
      "              [0, 0,   0,   0,   0, 0, 0],\n",
      "              [0, 0,   0,   0,   0, 0, 0]])\n",
      "left = Image(a)\n",
      "\n",
      "right = Image('media/lion-and-cub-bin.jpg')\n",
      "\n",
      "left.scale(50, interpolation=0).sideBySide(right).show()"
     ],
     "language": "python",
     "metadata": {},
     "outputs": []
    },
    {
     "cell_type": "markdown",
     "metadata": {},
     "source": [
      "## Erosion"
     ]
    },
    {
     "cell_type": "code",
     "collapsed": false,
     "input": [
      "left.erode().scale(50, interpolation=0).sideBySide(\n",
      "    right.erode()\n",
      ").show()"
     ],
     "language": "python",
     "metadata": {},
     "outputs": []
    },
    {
     "cell_type": "markdown",
     "metadata": {},
     "source": [
      "## Dilation"
     ]
    },
    {
     "cell_type": "code",
     "collapsed": false,
     "input": [
      "left.dilate().scale(50, interpolation=0).sideBySide(\n",
      "    right.dilate()\n",
      ").show()"
     ],
     "language": "python",
     "metadata": {},
     "outputs": []
    },
    {
     "cell_type": "markdown",
     "metadata": {},
     "source": [
      "## Erosion + dilation = \"opening\""
     ]
    },
    {
     "cell_type": "code",
     "collapsed": false,
     "input": [
      "left.erode().dilate().scale(50, interpolation=0).sideBySide(\n",
      "    right.erode().dilate()\n",
      ").show()"
     ],
     "language": "python",
     "metadata": {},
     "outputs": []
    },
    {
     "cell_type": "markdown",
     "metadata": {},
     "source": [
      "## Dilation + erosion = \"closing\""
     ]
    },
    {
     "cell_type": "code",
     "collapsed": false,
     "input": [
      "left.dilate().erode().scale(50, interpolation=0).sideBySide(\n",
      "    right.dilate().erode()\n",
      ").show()"
     ],
     "language": "python",
     "metadata": {},
     "outputs": []
    },
    {
     "cell_type": "markdown",
     "metadata": {},
     "source": [
      "# Edge detection"
     ]
    },
    {
     "cell_type": "code",
     "collapsed": false,
     "input": [
      "img = Image('media/prison-cat.jpg')\n",
      "img.show()"
     ],
     "language": "python",
     "metadata": {},
     "outputs": []
    },
    {
     "cell_type": "markdown",
     "metadata": {},
     "source": [
      "## Sobel operator"
     ]
    },
    {
     "cell_type": "code",
     "collapsed": false,
     "input": [
      "img.sobel().show()"
     ],
     "language": "python",
     "metadata": {},
     "outputs": []
    },
    {
     "cell_type": "markdown",
     "metadata": {},
     "source": [
      "## Canny edge detector"
     ]
    },
    {
     "cell_type": "code",
     "collapsed": false,
     "input": [
      "img.edges().show()"
     ],
     "language": "python",
     "metadata": {},
     "outputs": []
    },
    {
     "cell_type": "markdown",
     "metadata": {},
     "source": [
      "# Segmentation"
     ]
    },
    {
     "cell_type": "code",
     "collapsed": false,
     "input": [
      "img = Image('media/cat-sheets.jpg').scale(0.2)\n",
      "img.show()"
     ],
     "language": "python",
     "metadata": {},
     "outputs": []
    },
    {
     "cell_type": "markdown",
     "metadata": {},
     "source": [
      "## Blob detection"
     ]
    },
    {
     "cell_type": "code",
     "collapsed": false,
     "input": [
      "inv = img.invert()\n",
      "blobs = inv.findBlobs()\n",
      "blobs"
     ],
     "language": "python",
     "metadata": {},
     "outputs": []
    },
    {
     "cell_type": "code",
     "collapsed": false,
     "input": [
      "blobs[-1].draw(Color.GREEN)\n",
      "inv.show()"
     ],
     "language": "python",
     "metadata": {},
     "outputs": []
    },
    {
     "cell_type": "markdown",
     "metadata": {},
     "source": [
      "## Masking"
     ]
    },
    {
     "cell_type": "code",
     "collapsed": false,
     "input": [
      "img = Image('media/cat-sheets.jpg').scale(0.2)\n",
      "mask = img.binarize(60)\n",
      "mask.show()"
     ],
     "language": "python",
     "metadata": {},
     "outputs": []
    },
    {
     "cell_type": "code",
     "collapsed": false,
     "input": [
      "(img & mask).show()"
     ],
     "language": "python",
     "metadata": {},
     "outputs": []
    },
    {
     "cell_type": "code",
     "collapsed": false,
     "input": [
      "gizah = Image('media/gizah.jpg').scale(0.6)\n",
      "gizah.show()"
     ],
     "language": "python",
     "metadata": {},
     "outputs": []
    },
    {
     "cell_type": "code",
     "collapsed": false,
     "input": [
      "i = img.scale(0.3)\n",
      "mask = i.binarize(60)\n",
      "gizah.blit(i, (300, 50), mask=mask).show()"
     ],
     "language": "python",
     "metadata": {},
     "outputs": []
    }
   ],
   "metadata": {}
  }
 ]
}