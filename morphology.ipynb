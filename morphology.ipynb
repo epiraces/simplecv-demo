{
 "metadata": {
  "name": "morphology"
 },
 "nbformat": 3,
 "nbformat_minor": 0,
 "worksheets": [
  {
   "cells": [
    {
     "cell_type": "markdown",
     "metadata": {},
     "source": [
      "# Morphology"
     ]
    },
    {
     "cell_type": "code",
     "collapsed": false,
     "input": [
      "import numpy as np\n",
      "a = np.array([[0, 0,   0,   0,   0, 0, 0],\n",
      "              [0, 0,   0,   0,   0, 0, 0],\n",
      "              [0, 0, 255, 255, 255, 0, 0],\n",
      "              [0, 0, 255, 255, 255, 0, 0],\n",
      "              [0, 0, 255, 255, 255, 0, 0],\n",
      "              [0, 0,   0,   0,   0, 0, 0],\n",
      "              [0, 0,   0,   0,   0, 0, 0]])\n",
      "left = Image(a)\n",
      "\n",
      "right = Image('media/lion-and-cub-bin.jpg')\n",
      "\n",
      "left.scale(50, interpolation=0).sideBySide(right).show()"
     ],
     "language": "python",
     "metadata": {},
     "outputs": []
    },
    {
     "cell_type": "markdown",
     "metadata": {},
     "source": [
      "## Erosion"
     ]
    },
    {
     "cell_type": "code",
     "collapsed": false,
     "input": [
      "img.erode().scale(50, interpolation=0).sideBySide(\n",
      "    right.erode()\n",
      ").show()"
     ],
     "language": "python",
     "metadata": {},
     "outputs": []
    },
    {
     "cell_type": "markdown",
     "metadata": {},
     "source": [
      "## Dilation"
     ]
    },
    {
     "cell_type": "code",
     "collapsed": false,
     "input": [
      "img.dilate().scale(50, interpolation=0).sideBySide(\n",
      "    right.dilate()\n",
      ").show()"
     ],
     "language": "python",
     "metadata": {},
     "outputs": []
    },
    {
     "cell_type": "markdown",
     "metadata": {},
     "source": [
      "## Erosion + dilation = \"opening\""
     ]
    },
    {
     "cell_type": "code",
     "collapsed": false,
     "input": [
      "img.erode().dilate().scale(50, interpolation=0).sideBySide(\n",
      "    right.erode().dilate()\n",
      ").show()"
     ],
     "language": "python",
     "metadata": {},
     "outputs": []
    },
    {
     "cell_type": "markdown",
     "metadata": {},
     "source": [
      "## Dilation + erosion = \"closing\""
     ]
    },
    {
     "cell_type": "code",
     "collapsed": false,
     "input": [
      "img.dilate().erode().scale(50, interpolation=0).sideBySide(\n",
      "    right.dilate().erode()\n",
      ").show()"
     ],
     "language": "python",
     "metadata": {},
     "outputs": []
    }
   ],
   "metadata": {}
  }
 ]
}